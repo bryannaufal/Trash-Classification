{
 "cells": [
  {
   "cell_type": "markdown",
   "metadata": {},
   "source": [
    "## Import Libraries"
   ]
  },
  {
   "cell_type": "code",
   "execution_count": 1,
   "metadata": {
    "execution": {
     "iopub.execute_input": "2023-05-20T07:11:45.461265Z",
     "iopub.status.busy": "2023-05-20T07:11:45.460899Z",
     "iopub.status.idle": "2023-05-20T07:11:45.468570Z",
     "shell.execute_reply": "2023-05-20T07:11:45.467537Z",
     "shell.execute_reply.started": "2023-05-20T07:11:45.461236Z"
    },
    "trusted": true
   },
   "outputs": [],
   "source": [
    "import pandas as pd\n",
    "import numpy as np\n",
    "import matplotlib.pyplot as plt\n",
    "import os, random\n",
    "from tqdm import tqdm\n",
    "\n",
    "import tensorflow as tf\n",
    "from tensorflow import keras\n",
    "import keras\n",
    "import cv2"
   ]
  },
  {
   "cell_type": "markdown",
   "metadata": {},
   "source": [
    "## Load Data"
   ]
  },
  {
   "cell_type": "code",
   "execution_count": 2,
   "metadata": {
    "execution": {
     "iopub.execute_input": "2023-05-20T07:07:25.482166Z",
     "iopub.status.busy": "2023-05-20T07:07:25.481032Z",
     "iopub.status.idle": "2023-05-20T07:07:25.486796Z",
     "shell.execute_reply": "2023-05-20T07:07:25.485916Z",
     "shell.execute_reply.started": "2023-05-20T07:07:25.482106Z"
    },
    "trusted": true
   },
   "outputs": [],
   "source": [
    "train_path = \"./dataset-resized\"\n",
    "img_size = (256, 256)"
   ]
  },
  {
   "cell_type": "code",
   "execution_count": 3,
   "metadata": {
    "execution": {
     "iopub.execute_input": "2023-05-20T07:08:02.043239Z",
     "iopub.status.busy": "2023-05-20T07:08:02.042866Z",
     "iopub.status.idle": "2023-05-20T07:09:22.127350Z",
     "shell.execute_reply": "2023-05-20T07:09:22.126382Z",
     "shell.execute_reply.started": "2023-05-20T07:08:02.043210Z"
    },
    "trusted": true
   },
   "outputs": [],
   "source": [
    "X = []\n",
    "y = []\n",
    "\n",
    "dataset_path = \"./dataset-resized\"\n",
    "list_class = [item for item in os.listdir(dataset_path) if os.path.isdir(os.path.join(dataset_path, item))]\n",
    "\n",
    "jenis_dict = {\"cardboard\":0, \"glass\":1, \"metal\":2, \"paper\":3, \"plastic\":4, \"trash\":5}\n",
    "for jenis in list_class:\n",
    "    for image_name in (os.listdir(os.path.join(dataset_path, jenis))):\n",
    "        image_path = train_path+f'/{jenis}/'+image_name\n",
    "        img = cv2.imread(image_path)\n",
    "        resized_img = cv2.resize(img, (256, 256))\n",
    "        X.append(resized_img)\n",
    "        y.append(jenis_dict[jenis])\n",
    "X = np.array(X)"
   ]
  },
  {
   "cell_type": "code",
   "execution_count": 4,
   "metadata": {
    "execution": {
     "iopub.execute_input": "2023-05-20T07:10:13.800659Z",
     "iopub.status.busy": "2023-05-20T07:10:13.800273Z",
     "iopub.status.idle": "2023-05-20T07:10:13.807752Z",
     "shell.execute_reply": "2023-05-20T07:10:13.806807Z",
     "shell.execute_reply.started": "2023-05-20T07:10:13.800628Z"
    },
    "trusted": true
   },
   "outputs": [
    {
     "name": "stdout",
     "output_type": "stream",
     "text": [
      "X shape: (2527, 256, 256, 3)\n"
     ]
    }
   ],
   "source": [
    "print(f\"X shape: {X.shape}\")"
   ]
  },
  {
   "cell_type": "markdown",
   "metadata": {},
   "source": [
    "## Split data"
   ]
  },
  {
   "cell_type": "code",
   "execution_count": 5,
   "metadata": {
    "execution": {
     "iopub.execute_input": "2023-05-20T07:11:25.761542Z",
     "iopub.status.busy": "2023-05-20T07:11:25.761203Z",
     "iopub.status.idle": "2023-05-20T07:11:26.033168Z",
     "shell.execute_reply": "2023-05-20T07:11:26.032196Z",
     "shell.execute_reply.started": "2023-05-20T07:11:25.761515Z"
    },
    "trusted": true
   },
   "outputs": [],
   "source": [
    "from sklearn.model_selection import train_test_split\n",
    "\n",
    "X_train, X_val, y_train, y_val = train_test_split(X, y, \n",
    "                                                  test_size = 0.2, \n",
    "                                                  random_state = 27, \n",
    "                                                  stratify=y)"
   ]
  },
  {
   "cell_type": "markdown",
   "metadata": {},
   "source": [
    "### Convert label to one hot encoding"
   ]
  },
  {
   "cell_type": "code",
   "execution_count": 6,
   "metadata": {
    "execution": {
     "iopub.execute_input": "2023-05-20T07:12:00.361770Z",
     "iopub.status.busy": "2023-05-20T07:12:00.361419Z",
     "iopub.status.idle": "2023-05-20T07:12:00.372116Z",
     "shell.execute_reply": "2023-05-20T07:12:00.370987Z",
     "shell.execute_reply.started": "2023-05-20T07:12:00.361743Z"
    },
    "trusted": true
   },
   "outputs": [
    {
     "data": {
      "text/plain": [
       "array([[1., 0., 0., 0., 0., 0.],\n",
       "       [0., 0., 1., 0., 0., 0.],\n",
       "       [0., 0., 0., 0., 1., 0.],\n",
       "       [0., 1., 0., 0., 0., 0.],\n",
       "       [0., 0., 0., 0., 1., 0.]], dtype=float32)"
      ]
     },
     "execution_count": 6,
     "metadata": {},
     "output_type": "execute_result"
    }
   ],
   "source": [
    "y_train = keras.utils.to_categorical(y_train)\n",
    "y_val = keras.utils.to_categorical(y_val)\n",
    "\n",
    "y_train[:5]"
   ]
  },
  {
   "cell_type": "markdown",
   "metadata": {},
   "source": [
    "## Modelling"
   ]
  },
  {
   "cell_type": "markdown",
   "metadata": {
    "execution": {
     "iopub.execute_input": "2023-05-20T07:13:18.911910Z",
     "iopub.status.busy": "2023-05-20T07:13:18.911554Z",
     "iopub.status.idle": "2023-05-20T07:13:18.915828Z",
     "shell.execute_reply": "2023-05-20T07:13:18.914936Z",
     "shell.execute_reply.started": "2023-05-20T07:13:18.911880Z"
    }
   },
   "source": [
    "### Define callbacks"
   ]
  },
  {
   "cell_type": "code",
   "execution_count": 7,
   "metadata": {
    "execution": {
     "iopub.execute_input": "2023-05-20T07:14:01.361311Z",
     "iopub.status.busy": "2023-05-20T07:14:01.360930Z",
     "iopub.status.idle": "2023-05-20T07:14:01.367736Z",
     "shell.execute_reply": "2023-05-20T07:14:01.366798Z",
     "shell.execute_reply.started": "2023-05-20T07:14:01.361274Z"
    },
    "trusted": true
   },
   "outputs": [],
   "source": [
    "from tensorflow.keras.callbacks import ReduceLROnPlateau\n",
    "\n",
    "reduce_lr = ReduceLROnPlateau(\n",
    "    monitor='loss', \n",
    "    factor=0.4,   \n",
    "    patience=2, \n",
    "    verbose=1)"
   ]
  },
  {
   "cell_type": "code",
   "execution_count": 8,
   "metadata": {},
   "outputs": [
    {
     "name": "stderr",
     "output_type": "stream",
     "text": [
      "Failed to detect the name of this notebook, you can set it manually with the WANDB_NOTEBOOK_NAME environment variable to enable code saving.\n",
      "wandb: Currently logged in as: bryannaufal (ml_workspace). Use `wandb login --relogin` to force relogin\n"
     ]
    },
    {
     "data": {
      "text/html": [
       "Tracking run with wandb version 0.17.0"
      ],
      "text/plain": [
       "<IPython.core.display.HTML object>"
      ]
     },
     "metadata": {},
     "output_type": "display_data"
    },
    {
     "data": {
      "text/html": [
       "Run data is saved locally in <code>c:\\Users\\Bryan Naufal\\Documents\\Fasilkom\\Lomba\\adamata\\Trash-Classification\\wandb\\run-20240525_002311-o057mij9</code>"
      ],
      "text/plain": [
       "<IPython.core.display.HTML object>"
      ]
     },
     "metadata": {},
     "output_type": "display_data"
    },
    {
     "data": {
      "text/html": [
       "Syncing run <strong><a href='https://wandb.ai/ml_workspace/trash_classification/runs/o057mij9' target=\"_blank\">curious-puddle-6</a></strong> to <a href='https://wandb.ai/ml_workspace/trash_classification' target=\"_blank\">Weights & Biases</a> (<a href='https://wandb.me/run' target=\"_blank\">docs</a>)<br/>"
      ],
      "text/plain": [
       "<IPython.core.display.HTML object>"
      ]
     },
     "metadata": {},
     "output_type": "display_data"
    },
    {
     "data": {
      "text/html": [
       " View project at <a href='https://wandb.ai/ml_workspace/trash_classification' target=\"_blank\">https://wandb.ai/ml_workspace/trash_classification</a>"
      ],
      "text/plain": [
       "<IPython.core.display.HTML object>"
      ]
     },
     "metadata": {},
     "output_type": "display_data"
    },
    {
     "data": {
      "text/html": [
       " View run at <a href='https://wandb.ai/ml_workspace/trash_classification/runs/o057mij9' target=\"_blank\">https://wandb.ai/ml_workspace/trash_classification/runs/o057mij9</a>"
      ],
      "text/plain": [
       "<IPython.core.display.HTML object>"
      ]
     },
     "metadata": {},
     "output_type": "display_data"
    }
   ],
   "source": [
    "# Weights and Biases related imports\n",
    "import wandb\n",
    "from wandb.integration.keras import WandbMetricsLogger\n",
    "\n",
    "# Initialize a W&B run\n",
    "configs = dict(\n",
    "    num_classes = 6,\n",
    "    batch_size = 16,\n",
    "    image_size = 256,\n",
    "    epochs = 20\n",
    ")\n",
    "run = wandb.init(\n",
    "    project = \"trash_classification\",\n",
    "    config = configs\n",
    ")"
   ]
  },
  {
   "cell_type": "markdown",
   "metadata": {},
   "source": [
    "### Define Model 1"
   ]
  },
  {
   "cell_type": "code",
   "execution_count": 9,
   "metadata": {
    "execution": {
     "iopub.execute_input": "2023-05-20T07:14:27.721434Z",
     "iopub.status.busy": "2023-05-20T07:14:27.721042Z",
     "iopub.status.idle": "2023-05-20T07:14:27.728625Z",
     "shell.execute_reply": "2023-05-20T07:14:27.727493Z",
     "shell.execute_reply.started": "2023-05-20T07:14:27.721403Z"
    },
    "trusted": true
   },
   "outputs": [],
   "source": [
    "from keras.models import Sequential\n",
    "from tensorflow.keras.layers import Conv2D, MaxPooling2D, Flatten, Dense, Dropout, BatchNormalization, Activation"
   ]
  },
  {
   "cell_type": "code",
   "execution_count": 10,
   "metadata": {
    "execution": {
     "iopub.execute_input": "2023-05-20T07:15:24.791623Z",
     "iopub.status.busy": "2023-05-20T07:15:24.791254Z",
     "iopub.status.idle": "2023-05-20T07:17:50.149128Z",
     "shell.execute_reply": "2023-05-20T07:17:50.148192Z",
     "shell.execute_reply.started": "2023-05-20T07:15:24.791592Z"
    },
    "trusted": true
   },
   "outputs": [
    {
     "name": "stdout",
     "output_type": "stream",
     "text": [
      "Model: \"sequential\"\n",
      "_________________________________________________________________\n",
      " Layer (type)                Output Shape              Param #   \n",
      "=================================================================\n",
      " conv2d (Conv2D)             (None, 254, 254, 16)      448       \n",
      "                                                                 \n",
      " dropout (Dropout)           (None, 254, 254, 16)      0         \n",
      "                                                                 \n",
      " batch_normalization (BatchN  (None, 254, 254, 16)     64        \n",
      " ormalization)                                                   \n",
      "                                                                 \n",
      " max_pooling2d (MaxPooling2D  (None, 127, 127, 16)     0         \n",
      " )                                                               \n",
      "                                                                 \n",
      " conv2d_1 (Conv2D)           (None, 125, 125, 32)      4640      \n",
      "                                                                 \n",
      " dropout_1 (Dropout)         (None, 125, 125, 32)      0         \n",
      "                                                                 \n",
      " batch_normalization_1 (Batc  (None, 125, 125, 32)     128       \n",
      " hNormalization)                                                 \n",
      "                                                                 \n",
      " max_pooling2d_1 (MaxPooling  (None, 62, 62, 32)       0         \n",
      " 2D)                                                             \n",
      "                                                                 \n",
      " conv2d_2 (Conv2D)           (None, 60, 60, 64)        18496     \n",
      "                                                                 \n",
      " dropout_2 (Dropout)         (None, 60, 60, 64)        0         \n",
      "                                                                 \n",
      " batch_normalization_2 (Batc  (None, 60, 60, 64)       256       \n",
      " hNormalization)                                                 \n",
      "                                                                 \n",
      " max_pooling2d_2 (MaxPooling  (None, 30, 30, 64)       0         \n",
      " 2D)                                                             \n",
      "                                                                 \n",
      " conv2d_3 (Conv2D)           (None, 28, 28, 64)        36928     \n",
      "                                                                 \n",
      " max_pooling2d_3 (MaxPooling  (None, 14, 14, 64)       0         \n",
      " 2D)                                                             \n",
      "                                                                 \n",
      " conv2d_4 (Conv2D)           (None, 12, 12, 128)       73856     \n",
      "                                                                 \n",
      " max_pooling2d_4 (MaxPooling  (None, 6, 6, 128)        0         \n",
      " 2D)                                                             \n",
      "                                                                 \n",
      " conv2d_5 (Conv2D)           (None, 4, 4, 128)         147584    \n",
      "                                                                 \n",
      " max_pooling2d_5 (MaxPooling  (None, 2, 2, 128)        0         \n",
      " 2D)                                                             \n",
      "                                                                 \n",
      " flatten (Flatten)           (None, 512)               0         \n",
      "                                                                 \n",
      " dense (Dense)               (None, 256)               131328    \n",
      "                                                                 \n",
      " dropout_3 (Dropout)         (None, 256)               0         \n",
      "                                                                 \n",
      " dense_1 (Dense)             (None, 128)               32896     \n",
      "                                                                 \n",
      " dense_2 (Dense)             (None, 6)                 774       \n",
      "                                                                 \n",
      "=================================================================\n",
      "Total params: 447,398\n",
      "Trainable params: 447,174\n",
      "Non-trainable params: 224\n",
      "_________________________________________________________________\n",
      "Epoch 1/20\n",
      "127/127 - 87s - loss: 1.5140 - accuracy: 0.4221 - val_loss: 1.4830 - val_accuracy: 0.4328 - lr: 0.0010 - 87s/epoch - 685ms/step\n",
      "Epoch 2/20\n",
      "127/127 - 85s - loss: 1.2511 - accuracy: 0.5448 - val_loss: 1.1520 - val_accuracy: 0.5909 - lr: 0.0010 - 85s/epoch - 671ms/step\n",
      "Epoch 3/20\n",
      "127/127 - 84s - loss: 1.1490 - accuracy: 0.5730 - val_loss: 1.1400 - val_accuracy: 0.5771 - lr: 0.0010 - 84s/epoch - 663ms/step\n",
      "Epoch 4/20\n",
      "127/127 - 85s - loss: 1.0173 - accuracy: 0.6348 - val_loss: 1.1891 - val_accuracy: 0.5751 - lr: 0.0010 - 85s/epoch - 671ms/step\n",
      "Epoch 5/20\n",
      "127/127 - 84s - loss: 0.9083 - accuracy: 0.6759 - val_loss: 1.1487 - val_accuracy: 0.5455 - lr: 0.0010 - 84s/epoch - 662ms/step\n",
      "Epoch 6/20\n",
      "127/127 - 86s - loss: 0.8570 - accuracy: 0.6927 - val_loss: 1.7643 - val_accuracy: 0.3162 - lr: 0.0010 - 86s/epoch - 680ms/step\n",
      "Epoch 7/20\n",
      "127/127 - 92s - loss: 0.7772 - accuracy: 0.7175 - val_loss: 1.4691 - val_accuracy: 0.4921 - lr: 0.0010 - 92s/epoch - 728ms/step\n",
      "Epoch 8/20\n",
      "127/127 - 88s - loss: 0.7061 - accuracy: 0.7486 - val_loss: 1.1740 - val_accuracy: 0.6067 - lr: 0.0010 - 88s/epoch - 690ms/step\n",
      "Epoch 9/20\n",
      "127/127 - 90s - loss: 0.5911 - accuracy: 0.7942 - val_loss: 1.8447 - val_accuracy: 0.4229 - lr: 0.0010 - 90s/epoch - 708ms/step\n",
      "Epoch 10/20\n",
      "127/127 - 94s - loss: 0.4979 - accuracy: 0.8194 - val_loss: 0.9378 - val_accuracy: 0.6877 - lr: 0.0010 - 94s/epoch - 743ms/step\n",
      "Epoch 11/20\n",
      "127/127 - 91s - loss: 0.4585 - accuracy: 0.8427 - val_loss: 1.2853 - val_accuracy: 0.5731 - lr: 0.0010 - 91s/epoch - 713ms/step\n",
      "Epoch 12/20\n",
      "127/127 - 90s - loss: 0.4224 - accuracy: 0.8506 - val_loss: 1.1530 - val_accuracy: 0.6028 - lr: 0.0010 - 90s/epoch - 711ms/step\n",
      "Epoch 13/20\n",
      "127/127 - 91s - loss: 0.2874 - accuracy: 0.8981 - val_loss: 1.5207 - val_accuracy: 0.5573 - lr: 0.0010 - 91s/epoch - 717ms/step\n",
      "Epoch 14/20\n",
      "127/127 - 88s - loss: 0.3258 - accuracy: 0.8827 - val_loss: 2.3972 - val_accuracy: 0.4723 - lr: 0.0010 - 88s/epoch - 696ms/step\n",
      "Epoch 15/20\n",
      "\n",
      "Epoch 15: ReduceLROnPlateau reducing learning rate to 0.0004000000189989805.\n",
      "127/127 - 94s - loss: 0.2886 - accuracy: 0.9060 - val_loss: 2.1334 - val_accuracy: 0.5158 - lr: 0.0010 - 94s/epoch - 739ms/step\n",
      "Epoch 16/20\n",
      "127/127 - 89s - loss: 0.1174 - accuracy: 0.9574 - val_loss: 1.3331 - val_accuracy: 0.6561 - lr: 4.0000e-04 - 89s/epoch - 703ms/step\n",
      "Epoch 17/20\n",
      "127/127 - 92s - loss: 0.0876 - accuracy: 0.9708 - val_loss: 1.7000 - val_accuracy: 0.6107 - lr: 4.0000e-04 - 92s/epoch - 727ms/step\n",
      "Epoch 18/20\n",
      "127/127 - 92s - loss: 0.0779 - accuracy: 0.9728 - val_loss: 1.2313 - val_accuracy: 0.6700 - lr: 4.0000e-04 - 92s/epoch - 725ms/step\n",
      "Epoch 19/20\n",
      "127/127 - 90s - loss: 0.0455 - accuracy: 0.9876 - val_loss: 1.2065 - val_accuracy: 0.7134 - lr: 4.0000e-04 - 90s/epoch - 705ms/step\n",
      "Epoch 20/20\n",
      "127/127 - 93s - loss: 0.0462 - accuracy: 0.9852 - val_loss: 1.1144 - val_accuracy: 0.7233 - lr: 4.0000e-04 - 93s/epoch - 734ms/step\n"
     ]
    }
   ],
   "source": [
    "def model_1(configs):\n",
    "    model = Sequential()\n",
    "    model.add(Conv2D(16, (3, 3), 1, activation='relu', input_shape=(configs['image_size'], configs['image_size'], 3)))\n",
    "    model.add(Dropout(0.1))\n",
    "    model.add(BatchNormalization())\n",
    "    model.add(MaxPooling2D())\n",
    "    model.add(Conv2D(32, (3, 3), 1, activation='relu'))\n",
    "    model.add(Dropout(0.1))\n",
    "    model.add(BatchNormalization())\n",
    "    model.add(MaxPooling2D())\n",
    "    model.add(Conv2D(64, (3, 3), 1, activation='relu'))\n",
    "    model.add(Dropout(0.1))\n",
    "    model.add(BatchNormalization())\n",
    "    model.add(MaxPooling2D())\n",
    "    model.add(Conv2D(64, (3, 3), 1, activation='relu'))\n",
    "    model.add(MaxPooling2D())\n",
    "    model.add(Conv2D(128, (3, 3), 1, activation='relu'))\n",
    "    model.add(MaxPooling2D())\n",
    "    model.add(Conv2D(128, (3, 3), 1, activation='relu'))\n",
    "    model.add(MaxPooling2D())\n",
    "    model.add(Flatten())\n",
    "    model.add(Dense(256, activation='relu'))\n",
    "    model.add(Dropout(0.1))\n",
    "    model.add(Dense(128, activation='relu'))\n",
    "    model.add(Dense(configs['num_classes'], activation='softmax'))\n",
    "    return model\n",
    "\n",
    "model = model_1(configs=configs)\n",
    "model.summary()\n",
    "model.compile(loss = \"categorical_crossentropy\", optimizer = \"Adam\", metrics = [\"accuracy\"])\n",
    "\n",
    "history = model.fit(\n",
    "    X_train,\n",
    "    y_train,\n",
    "    validation_data = (X_val, y_val),\n",
    "    epochs=configs['epochs'],\n",
    "    batch_size=configs['batch_size'],\n",
    "    verbose=2,\n",
    "    callbacks = [reduce_lr, WandbMetricsLogger()])"
   ]
  },
  {
   "cell_type": "code",
   "execution_count": 11,
   "metadata": {},
   "outputs": [
    {
     "data": {
      "text/html": [
       "<style>\n",
       "    table.wandb td:nth-child(1) { padding: 0 10px; text-align: left ; width: auto;} td:nth-child(2) {text-align: left ; width: 100%}\n",
       "    .wandb-row { display: flex; flex-direction: row; flex-wrap: wrap; justify-content: flex-start; width: 100% }\n",
       "    .wandb-col { display: flex; flex-direction: column; flex-basis: 100%; flex: 1; padding: 10px; }\n",
       "    </style>\n",
       "<div class=\"wandb-row\"><div class=\"wandb-col\"><h3>Run history:</h3><br/><table class=\"wandb\"><tr><td>epoch/accuracy</td><td>▁▃▃▄▄▄▅▅▆▆▆▆▇▇▇█████</td></tr><tr><td>epoch/epoch</td><td>▁▁▂▂▂▃▃▄▄▄▅▅▅▆▆▇▇▇██</td></tr><tr><td>epoch/learning_rate</td><td>██████████████▁▁▁▁▁▁</td></tr><tr><td>epoch/loss</td><td>█▇▆▆▅▅▄▄▄▃▃▃▂▂▂▁▁▁▁▁</td></tr><tr><td>epoch/lr</td><td>███████████████▁▁▁▁▁</td></tr><tr><td>epoch/val_accuracy</td><td>▃▆▅▅▅▁▄▆▃▇▅▆▅▄▄▇▆▇██</td></tr><tr><td>epoch/val_loss</td><td>▄▂▂▂▂▅▄▂▅▁▃▂▄█▇▃▅▂▂▂</td></tr></table><br/></div><div class=\"wandb-col\"><h3>Run summary:</h3><br/><table class=\"wandb\"><tr><td>epoch/accuracy</td><td>0.98516</td></tr><tr><td>epoch/epoch</td><td>19</td></tr><tr><td>epoch/learning_rate</td><td>0.0004</td></tr><tr><td>epoch/loss</td><td>0.04622</td></tr><tr><td>epoch/lr</td><td>0.0004</td></tr><tr><td>epoch/val_accuracy</td><td>0.72332</td></tr><tr><td>epoch/val_loss</td><td>1.11438</td></tr></table><br/></div></div>"
      ],
      "text/plain": [
       "<IPython.core.display.HTML object>"
      ]
     },
     "metadata": {},
     "output_type": "display_data"
    },
    {
     "data": {
      "text/html": [
       " View run <strong style=\"color:#cdcd00\">curious-puddle-6</strong> at: <a href='https://wandb.ai/ml_workspace/trash_classification/runs/o057mij9' target=\"_blank\">https://wandb.ai/ml_workspace/trash_classification/runs/o057mij9</a><br/> View project at: <a href='https://wandb.ai/ml_workspace/trash_classification' target=\"_blank\">https://wandb.ai/ml_workspace/trash_classification</a><br/>Synced 5 W&B file(s), 0 media file(s), 1 artifact file(s) and 0 other file(s)"
      ],
      "text/plain": [
       "<IPython.core.display.HTML object>"
      ]
     },
     "metadata": {},
     "output_type": "display_data"
    },
    {
     "data": {
      "text/html": [
       "Find logs at: <code>.\\wandb\\run-20240525_002311-o057mij9\\logs</code>"
      ],
      "text/plain": [
       "<IPython.core.display.HTML object>"
      ]
     },
     "metadata": {},
     "output_type": "display_data"
    }
   ],
   "source": [
    "path = \"./models/model_cnn.h5\"\n",
    "model.save(path)\n",
    "\n",
    "registered_model_name = \"cnn_base\"\n",
    "\n",
    "run.link_model(path=path, registered_model_name=registered_model_name)\n",
    "\n",
    "run.finish()"
   ]
  },
  {
   "cell_type": "markdown",
   "metadata": {},
   "source": [
    "## Evaluation"
   ]
  },
  {
   "cell_type": "markdown",
   "metadata": {},
   "source": [
    "### Helpers"
   ]
  },
  {
   "cell_type": "code",
   "execution_count": 18,
   "metadata": {
    "execution": {
     "iopub.execute_input": "2023-05-20T07:19:46.102031Z",
     "iopub.status.busy": "2023-05-20T07:19:46.101674Z",
     "iopub.status.idle": "2023-05-20T07:19:46.111133Z",
     "shell.execute_reply": "2023-05-20T07:19:46.110216Z",
     "shell.execute_reply.started": "2023-05-20T07:19:46.101999Z"
    },
    "trusted": true
   },
   "outputs": [],
   "source": [
    "start = 0\n",
    "\n",
    "import matplotlib.pyplot as plt\n",
    "\n",
    "def plot_loss(history_dict):\n",
    "    key1 = list(history_dict.keys())[0]\n",
    "    key2 = list(history_dict.keys())[2]\n",
    "    loss_values = history_dict[key1][start:]\n",
    "    val_loss_values = history_dict[key2][start:]\n",
    "    plt.plot(loss_values, \"b-\", label=key1)\n",
    "    plt.plot(val_loss_values, \"r--\", label=key2)\n",
    "    plt.title(\"Training vs Validation Loss\")\n",
    "    plt.legend()\n",
    "    plt.show()\n",
    "    print(key1, \": \", history_dict[key1][-1], key2, \": \", history_dict[key2][-1])\n",
    "\n",
    "\n",
    "def plot_metric(history_dict):\n",
    "    key1 = list(history_dict.keys())[1]\n",
    "    key2 = list(history_dict.keys())[3]\n",
    "    metric_values = history_dict[key1][start:]\n",
    "    val_metric_values = history_dict[key2][start:]\n",
    "    plt.plot(metric_values, \"b-\", label=key1)\n",
    "    plt.plot(val_metric_values, \"r--\", label=key2)\n",
    "    plt.title(\"Training vs Validation Metric\")\n",
    "    plt.legend()\n",
    "    plt.show()\n",
    "    print(key1, \": \", history_dict[key1][-1], key2, \": \", history_dict[key2][-1])"
   ]
  },
  {
   "cell_type": "markdown",
   "metadata": {},
   "source": [
    "### Model 1"
   ]
  },
  {
   "cell_type": "code",
   "execution_count": 1,
   "metadata": {
    "execution": {
     "iopub.execute_input": "2023-05-20T07:20:15.680767Z",
     "iopub.status.busy": "2023-05-20T07:20:15.680216Z",
     "iopub.status.idle": "2023-05-20T07:20:16.237410Z",
     "shell.execute_reply": "2023-05-20T07:20:16.236474Z",
     "shell.execute_reply.started": "2023-05-20T07:20:15.680735Z"
    },
    "trusted": true
   },
   "outputs": [
    {
     "ename": "NameError",
     "evalue": "name 'plot_loss' is not defined",
     "output_type": "error",
     "traceback": [
      "\u001b[1;31m---------------------------------------------------------------------------\u001b[0m",
      "\u001b[1;31mNameError\u001b[0m                                 Traceback (most recent call last)",
      "Cell \u001b[1;32mIn[1], line 1\u001b[0m\n\u001b[1;32m----> 1\u001b[0m \u001b[43mplot_loss\u001b[49m(history\u001b[38;5;241m.\u001b[39mhistory)\n\u001b[0;32m      2\u001b[0m plot_metric(history\u001b[38;5;241m.\u001b[39mhistory)\n",
      "\u001b[1;31mNameError\u001b[0m: name 'plot_loss' is not defined"
     ]
    }
   ],
   "source": [
    "plot_loss(history.history)\n",
    "plot_metric(history.history)"
   ]
  },
  {
   "cell_type": "markdown",
   "metadata": {},
   "source": [
    "## Submission"
   ]
  },
  {
   "cell_type": "code",
   "execution_count": 27,
   "metadata": {
    "execution": {
     "iopub.execute_input": "2023-05-20T07:27:00.403727Z",
     "iopub.status.busy": "2023-05-20T07:27:00.403034Z",
     "iopub.status.idle": "2023-05-20T07:27:00.415151Z",
     "shell.execute_reply": "2023-05-20T07:27:00.414112Z",
     "shell.execute_reply.started": "2023-05-20T07:27:00.403692Z"
    },
    "trusted": true
   },
   "outputs": [],
   "source": [
    "submission = pd.read_csv(\"/kaggle/input/final-joints-data-competition-2023/sample_submission.csv\")"
   ]
  },
  {
   "cell_type": "code",
   "execution_count": 29,
   "metadata": {
    "execution": {
     "iopub.execute_input": "2023-05-20T07:27:42.680988Z",
     "iopub.status.busy": "2023-05-20T07:27:42.680029Z",
     "iopub.status.idle": "2023-05-20T07:27:58.139156Z",
     "shell.execute_reply": "2023-05-20T07:27:58.138191Z",
     "shell.execute_reply.started": "2023-05-20T07:27:42.680941Z"
    },
    "trusted": true
   },
   "outputs": [],
   "source": [
    "# load test data\n",
    "test_img = []\n",
    "for test_name in submission.id:\n",
    "    test_path_fix = test_path+f\"/{test_name}.jpg\"\n",
    "    img = cv2.imread(test_path_fix)\n",
    "    resized_img = cv2.resize(img, (256, 256))\n",
    "    test_img.append(resized_img)"
   ]
  },
  {
   "cell_type": "code",
   "execution_count": 30,
   "metadata": {
    "execution": {
     "iopub.execute_input": "2023-05-20T07:28:40.102133Z",
     "iopub.status.busy": "2023-05-20T07:28:40.101136Z",
     "iopub.status.idle": "2023-05-20T07:28:41.438193Z",
     "shell.execute_reply": "2023-05-20T07:28:41.437259Z",
     "shell.execute_reply.started": "2023-05-20T07:28:40.102089Z"
    },
    "trusted": true
   },
   "outputs": [],
   "source": [
    "# convert to np array\n",
    "test_img = np.array(test_img, dtype=\"float\")"
   ]
  },
  {
   "cell_type": "code",
   "execution_count": null,
   "metadata": {},
   "outputs": [],
   "source": [
    "hasil1 = model.predict(test_img)\n",
    "hasil2 = model2.predict(test_img)\n",
    "\n",
    "# model2 trained with full data\n",
    "hasil3 = model2.predict(test_img)"
   ]
  },
  {
   "cell_type": "code",
   "execution_count": null,
   "metadata": {},
   "outputs": [],
   "source": [
    "final = []\n",
    "for a,b,c in zip(hasil1, hasil2, hasil3):\n",
    "    if a == b:\n",
    "        final.append(a)\n",
    "    elif a == c:\n",
    "        final.append(a)\n",
    "    elif b == c:\n",
    "        final.append(b)"
   ]
  },
  {
   "cell_type": "code",
   "execution_count": null,
   "metadata": {},
   "outputs": [],
   "source": [
    "submission[\"label\"] = final\n",
    "submission.head()"
   ]
  },
  {
   "cell_type": "code",
   "execution_count": null,
   "metadata": {},
   "outputs": [],
   "source": [
    "submission.to_csv(\"third.csv\", index=False)"
   ]
  },
  {
   "cell_type": "markdown",
   "metadata": {},
   "source": [
    "# Test for scoring"
   ]
  },
  {
   "cell_type": "code",
   "execution_count": 14,
   "metadata": {},
   "outputs": [],
   "source": [
    "import tensorflow as tf\n",
    "import cv2\n",
    "import numpy as np\n",
    "model =  tf.keras.models.load_model(\"./models/nopal_2.h5\")\n",
    "model2 = tf.keras.models.load_model(\"./models/nopal_3.h5\")\n",
    "model3 = tf.keras.models.load_model(\"./models/nopal_4.h5\")\n",
    "def predict2_voting(image_path):\n",
    "    img = cv2.imread(image_path)\n",
    "    resized_img = cv2.resize(img, (256,256))\n",
    "    data_fix = [resized_img]\n",
    "    data_fix = np.array(data_fix, dtype=\"float\")\n",
    "#     print(new_resized_img.shape)\n",
    "    result1 = model.predict(data_fix)\n",
    "    result2 = model2.predict(data_fix)\n",
    "    result3 = model3.predict(data_fix)\n",
    "    final_result1 = np.argmax(result1)\n",
    "    final_result2 = np.argmax(result2)\n",
    "    final_result3 = np.argmax(result3)\n",
    "    if final_result1 == final_result2:\n",
    "        return final_result1\n",
    "    elif final_result1 == final_result3:\n",
    "        return final_result1\n",
    "    elif final_result2 == final_result3:\n",
    "        return final_result2\n",
    "\n",
    "\n",
    "    "
   ]
  },
  {
   "cell_type": "code",
   "execution_count": 15,
   "metadata": {},
   "outputs": [
    {
     "name": "stdout",
     "output_type": "stream",
     "text": [
      "1/1 [==============================] - 0s 187ms/step\n",
      "1/1 [==============================] - 0s 158ms/step\n",
      "1/1 [==============================] - 0s 130ms/step\n"
     ]
    },
    {
     "data": {
      "text/plain": [
       "1"
      ]
     },
     "execution_count": 15,
     "metadata": {},
     "output_type": "execute_result"
    }
   ],
   "source": [
    "predict2_voting(\"./12.jpg\")"
   ]
  },
  {
   "cell_type": "code",
   "execution_count": 16,
   "metadata": {},
   "outputs": [
    {
     "name": "stdout",
     "output_type": "stream",
     "text": [
      "1/1 [==============================] - 0s 29ms/step\n",
      "1/1 [==============================] - 0s 30ms/step\n",
      "1/1 [==============================] - 0s 31ms/step\n"
     ]
    },
    {
     "data": {
      "text/plain": [
       "0"
      ]
     },
     "execution_count": 16,
     "metadata": {},
     "output_type": "execute_result"
    }
   ],
   "source": [
    "predict2_voting(\"./start.jpg\")"
   ]
  }
 ],
 "metadata": {
  "kernelspec": {
   "display_name": "Python 3.11.1 64-bit",
   "language": "python",
   "name": "python3"
  },
  "language_info": {
   "codemirror_mode": {
    "name": "ipython",
    "version": 3
   },
   "file_extension": ".py",
   "mimetype": "text/x-python",
   "name": "python",
   "nbconvert_exporter": "python",
   "pygments_lexer": "ipython3",
   "version": "3.9.1"
  },
  "vscode": {
   "interpreter": {
    "hash": "6231ba0dea6466661e7c91f402a5130a6a11adee1162062371b70dfb68aa6c6a"
   }
  }
 },
 "nbformat": 4,
 "nbformat_minor": 4
}
